{
 "cells": [
  {
   "cell_type": "markdown",
   "id": "2dbaaeda",
   "metadata": {
    "tags": [
     "papermill-error-cell-tag"
    ]
   },
   "source": [
    "<span style=\"color:red; font-family:Helvetica Neue, Helvetica, Arial, sans-serif; font-size:2em;\">An Exception was encountered at '<a href=\"#papermill-error-cell\">In [1]</a>'.</span>"
   ]
  },
  {
   "cell_type": "markdown",
   "id": "4bf5f2e4",
   "metadata": {
    "tags": [
     "papermill-error-cell-tag"
    ]
   },
   "source": [
    "<span id=\"papermill-error-cell\" style=\"color:red; font-family:Helvetica Neue, Helvetica, Arial, sans-serif; font-size:2em;\">Execution using papermill encountered an exception here and stopped:</span>"
   ]
  },
  {
   "cell_type": "code",
   "execution_count": 1,
   "id": "6aa093f4",
   "metadata": {
    "collapsed": true,
    "execution": {
     "iopub.execute_input": "2022-07-19T03:45:56.452440Z",
     "iopub.status.busy": "2022-07-19T03:45:56.451858Z",
     "iopub.status.idle": "2022-07-19T03:45:57.798866Z",
     "shell.execute_reply": "2022-07-19T03:45:57.798262Z"
    },
    "papermill": {
     "duration": 1.356689,
     "end_time": "2022-07-19T03:45:57.799052",
     "exception": true,
     "start_time": "2022-07-19T03:45:56.442363",
     "status": "failed"
    },
    "tags": []
   },
   "outputs": [
    {
     "name": "stderr",
     "output_type": "stream",
     "text": [
      "[ModelArts Service Log]2022-07-19 11:45:56,514 - INFO - Try to config Rank table file for ascend applications...\n"
     ]
    },
    {
     "name": "stderr",
     "output_type": "stream",
     "text": [
      "[ModelArts Service Log]2022-07-19 11:45:56,515 - INFO - Wait for Rank table file ready\n"
     ]
    },
    {
     "name": "stderr",
     "output_type": "stream",
     "text": [
      "[ModelArts Service Log]2022-07-19 11:45:56,516 - INFO - Rank table file (K8S generated) is ready for read\n"
     ]
    },
    {
     "name": "stderr",
     "output_type": "stream",
     "text": [
      "[ModelArts Service Log]2022-07-19 11:45:56,517 - INFO - \n",
      "{\n",
      "    \"status\": \"completed\",\n",
      "    \"group_count\": \"1\",\n",
      "    \"group_list\": [\n",
      "        {\n",
      "            \"group_name\": \"job-czk-nmt-paper\",\n",
      "            \"device_count\": \"16\",\n",
      "            \"instance_count\": \"2\",\n",
      "            \"instance_list\": [\n",
      "                {\n",
      "                    \"pod_name\": \"job593a92f4-job-czk-nmt-paper-1\",\n",
      "                    \"server_id\": \"10.19.1.79\",\n",
      "                    \"devices\": [\n",
      "                        {\n",
      "                            \"device_id\": \"0\",\n",
      "                            \"device_ip\": \"192.1.194.107\"\n",
      "                        },\n",
      "                        {\n",
      "                            \"device_id\": \"1\",\n",
      "                            \"device_ip\": \"192.2.151.252\"\n",
      "                        },\n",
      "                        {\n",
      "                            \"device_id\": \"2\",\n",
      "                            \"device_ip\": \"192.3.151.103\"\n",
      "                        },\n",
      "                        {\n",
      "                            \"device_id\": \"3\",\n",
      "                            \"device_ip\": \"192.4.42.97\"\n",
      "                        },\n",
      "                        {\n",
      "                            \"device_id\": \"4\",\n",
      "                            \"device_ip\": \"192.1.231.84\"\n",
      "                        },\n",
      "                        {\n",
      "                            \"device_id\": \"5\",\n",
      "                            \"device_ip\": \"192.2.33.15\"\n",
      "                        },\n",
      "                        {\n",
      "                            \"device_id\": \"6\",\n",
      "                            \"device_ip\": \"192.3.129.242\"\n",
      "                        },\n",
      "                        {\n",
      "                            \"device_id\": \"7\",\n",
      "                            \"device_ip\": \"192.4.33.172\"\n",
      "                        }\n",
      "                    ]\n",
      "                },\n",
      "                {\n",
      "                    \"pod_name\": \"job593a92f4-job-czk-nmt-paper-0\",\n",
      "                    \"server_id\": \"10.19.1.142\",\n",
      "                    \"devices\": [\n",
      "                        {\n",
      "                            \"device_id\": \"0\",\n",
      "                            \"device_ip\": \"192.1.65.251\"\n",
      "                        },\n",
      "                        {\n",
      "                            \"device_id\": \"1\",\n",
      "                            \"device_ip\": \"192.2.119.60\"\n",
      "                        },\n",
      "                        {\n",
      "                            \"device_id\": \"2\",\n",
      "                            \"device_ip\": \"192.3.23.207\"\n",
      "                        },\n",
      "                        {\n",
      "                            \"device_id\": \"3\",\n",
      "                            \"device_ip\": \"192.4.186.90\"\n",
      "                        },\n",
      "                        {\n",
      "                            \"device_id\": \"4\",\n",
      "                            \"device_ip\": \"192.1.72.194\"\n",
      "                        },\n",
      "                        {\n",
      "                            \"device_id\": \"5\",\n",
      "                            \"device_ip\": \"192.2.38.84\"\n",
      "                        },\n",
      "                        {\n",
      "                            \"device_id\": \"6\",\n",
      "                            \"device_ip\": \"192.3.199.174\"\n",
      "                        },\n",
      "                        {\n",
      "                            \"device_id\": \"7\",\n",
      "                            \"device_ip\": \"192.4.178.32\"\n",
      "                        }\n",
      "                    ]\n",
      "                }\n",
      "            ]\n",
      "        }\n",
      "    ]\n",
      "}\n"
     ]
    },
    {
     "name": "stderr",
     "output_type": "stream",
     "text": [
      "[ModelArts Service Log]2022-07-19 11:45:56,518 - INFO - Rank table file (V1)\n"
     ]
    },
    {
     "name": "stderr",
     "output_type": "stream",
     "text": [
      "[ModelArts Service Log]2022-07-19 11:45:56,518 - INFO - \n",
      "{\n",
      "    \"status\": \"completed\",\n",
      "    \"version\": \"1.0\",\n",
      "    \"server_count\": \"2\",\n",
      "    \"server_list\": [\n",
      "        {\n",
      "            \"server_id\": \"10.19.1.142\",\n",
      "            \"device\": [\n",
      "                {\n",
      "                    \"device_id\": \"0\",\n",
      "                    \"device_ip\": \"192.1.65.251\",\n",
      "                    \"rank_id\": \"0\"\n",
      "                },\n",
      "                {\n",
      "                    \"device_id\": \"1\",\n",
      "                    \"device_ip\": \"192.2.119.60\",\n",
      "                    \"rank_id\": \"1\"\n",
      "                },\n",
      "                {\n",
      "                    \"device_id\": \"2\",\n",
      "                    \"device_ip\": \"192.3.23.207\",\n",
      "                    \"rank_id\": \"2\"\n",
      "                },\n",
      "                {\n",
      "                    \"device_id\": \"3\",\n",
      "                    \"device_ip\": \"192.4.186.90\",\n",
      "                    \"rank_id\": \"3\"\n",
      "                },\n",
      "                {\n",
      "                    \"device_id\": \"4\",\n",
      "                    \"device_ip\": \"192.1.72.194\",\n",
      "                    \"rank_id\": \"4\"\n",
      "                },\n",
      "                {\n",
      "                    \"device_id\": \"5\",\n",
      "                    \"device_ip\": \"192.2.38.84\",\n",
      "                    \"rank_id\": \"5\"\n",
      "                },\n",
      "                {\n",
      "                    \"device_id\": \"6\",\n",
      "                    \"device_ip\": \"192.3.199.174\",\n",
      "                    \"rank_id\": \"6\"\n",
      "                },\n",
      "                {\n",
      "                    \"device_id\": \"7\",\n",
      "                    \"device_ip\": \"192.4.178.32\",\n",
      "                    \"rank_id\": \"7\"\n",
      "                }\n",
      "            ]\n",
      "        },\n",
      "        {\n",
      "            \"server_id\": \"10.19.1.79\",\n",
      "            \"device\": [\n",
      "                {\n",
      "                    \"device_id\": \"0\",\n",
      "                    \"device_ip\": \"192.1.194.107\",\n",
      "                    \"rank_id\": \"8\"\n",
      "                },\n",
      "                {\n",
      "                    \"device_id\": \"1\",\n",
      "                    \"device_ip\": \"192.2.151.252\",\n",
      "                    \"rank_id\": \"9\"\n",
      "                },\n",
      "                {\n",
      "                    \"device_id\": \"2\",\n",
      "                    \"device_ip\": \"192.3.151.103\",\n",
      "                    \"rank_id\": \"10\"\n",
      "                },\n",
      "                {\n",
      "                    \"device_id\": \"3\",\n",
      "                    \"device_ip\": \"192.4.42.97\",\n",
      "                    \"rank_id\": \"11\"\n",
      "                },\n",
      "                {\n",
      "                    \"device_id\": \"4\",\n",
      "                    \"device_ip\": \"192.1.231.84\",\n",
      "                    \"rank_id\": \"12\"\n",
      "                },\n",
      "                {\n",
      "                    \"device_id\": \"5\",\n",
      "                    \"device_ip\": \"192.2.33.15\",\n",
      "                    \"rank_id\": \"13\"\n",
      "                },\n",
      "                {\n",
      "                    \"device_id\": \"6\",\n",
      "                    \"device_ip\": \"192.3.129.242\",\n",
      "                    \"rank_id\": \"14\"\n",
      "                },\n",
      "                {\n",
      "                    \"device_id\": \"7\",\n",
      "                    \"device_ip\": \"192.4.33.172\",\n",
      "                    \"rank_id\": \"15\"\n",
      "                }\n",
      "            ]\n",
      "        }\n",
      "    ]\n",
      "}\n"
     ]
    },
    {
     "name": "stderr",
     "output_type": "stream",
     "text": [
      "[ModelArts Service Log]2022-07-19 11:45:56,519 - INFO - Rank table file (V1) is generated\n"
     ]
    },
    {
     "name": "stderr",
     "output_type": "stream",
     "text": [
      "[ModelArts Service Log]2022-07-19 11:45:56,520 - WARNING - there is no /usr/local/Ascend/driver/version.info file\n"
     ]
    },
    {
     "name": "stderr",
     "output_type": "stream",
     "text": [
      "[ModelArts Service Log]2022-07-19 11:45:56,520 - INFO - Ascend Driver: Unknown\n"
     ]
    },
    {
     "name": "stderr",
     "output_type": "stream",
     "text": [
      "[ModelArts Service Log]2022-07-19 11:45:56,520 - INFO - you are advised to use ASCEND_DEVICE_ID env instead of DEVICE_ID, as the DEVICE_ID env will be discarded in later versions\n"
     ]
    },
    {
     "name": "stderr",
     "output_type": "stream",
     "text": [
      "[ModelArts Service Log]2022-07-19 11:45:56,521 - INFO - particularly, ${ASCEND_DEVICE_ID} == ${DEVICE_ID}, it's the logical device id\n"
     ]
    },
    {
     "name": "stderr",
     "output_type": "stream",
     "text": [
      "[ModelArts Service Log]2022-07-19 11:45:56,521 - INFO - Current server\n"
     ]
    },
    {
     "name": "stderr",
     "output_type": "stream",
     "text": [
      "[ModelArts Service Log]2022-07-19 11:45:56,522 - INFO - \n",
      "{\n",
      "    \"server_id\": \"10.19.1.142\",\n",
      "    \"device\": [\n",
      "        {\n",
      "            \"device_id\": \"0\",\n",
      "            \"device_ip\": \"192.1.65.251\",\n",
      "            \"rank_id\": \"0\"\n",
      "        },\n",
      "        {\n",
      "            \"device_id\": \"1\",\n",
      "            \"device_ip\": \"192.2.119.60\",\n",
      "            \"rank_id\": \"1\"\n",
      "        },\n",
      "        {\n",
      "            \"device_id\": \"2\",\n",
      "            \"device_ip\": \"192.3.23.207\",\n",
      "            \"rank_id\": \"2\"\n",
      "        },\n",
      "        {\n",
      "            \"device_id\": \"3\",\n",
      "            \"device_ip\": \"192.4.186.90\",\n",
      "            \"rank_id\": \"3\"\n",
      "        },\n",
      "        {\n",
      "            \"device_id\": \"4\",\n",
      "            \"device_ip\": \"192.1.72.194\",\n",
      "            \"rank_id\": \"4\"\n",
      "        },\n",
      "        {\n",
      "            \"device_id\": \"5\",\n",
      "            \"device_ip\": \"192.2.38.84\",\n",
      "            \"rank_id\": \"5\"\n",
      "        },\n",
      "        {\n",
      "            \"device_id\": \"6\",\n",
      "            \"device_ip\": \"192.3.199.174\",\n",
      "            \"rank_id\": \"6\"\n",
      "        },\n",
      "        {\n",
      "            \"device_id\": \"7\",\n",
      "            \"device_ip\": \"192.4.178.32\",\n",
      "            \"rank_id\": \"7\"\n",
      "        }\n",
      "    ]\n",
      "}\n"
     ]
    },
    {
     "name": "stderr",
     "output_type": "stream",
     "text": [
      "[ModelArts Service Log]2022-07-19 11:45:56,523 - INFO - Current server\n"
     ]
    },
    {
     "name": "stderr",
     "output_type": "stream",
     "text": [
      "[ModelArts Service Log]2022-07-19 11:45:56,523 - INFO - \n",
      "{\n",
      "    \"server_id\": \"10.19.1.142\",\n",
      "    \"device\": [\n",
      "        {\n",
      "            \"device_id\": \"0\",\n",
      "            \"device_ip\": \"192.1.65.251\",\n",
      "            \"rank_id\": \"0\"\n",
      "        },\n",
      "        {\n",
      "            \"device_id\": \"1\",\n",
      "            \"device_ip\": \"192.2.119.60\",\n",
      "            \"rank_id\": \"1\"\n",
      "        },\n",
      "        {\n",
      "            \"device_id\": \"2\",\n",
      "            \"device_ip\": \"192.3.23.207\",\n",
      "            \"rank_id\": \"2\"\n",
      "        },\n",
      "        {\n",
      "            \"device_id\": \"3\",\n",
      "            \"device_ip\": \"192.4.186.90\",\n",
      "            \"rank_id\": \"3\"\n",
      "        },\n",
      "        {\n",
      "            \"device_id\": \"4\",\n",
      "            \"device_ip\": \"192.1.72.194\",\n",
      "            \"rank_id\": \"4\"\n",
      "        },\n",
      "        {\n",
      "            \"device_id\": \"5\",\n",
      "            \"device_ip\": \"192.2.38.84\",\n",
      "            \"rank_id\": \"5\"\n",
      "        },\n",
      "        {\n",
      "            \"device_id\": \"6\",\n",
      "            \"device_ip\": \"192.3.199.174\",\n",
      "            \"rank_id\": \"6\"\n",
      "        },\n",
      "        {\n",
      "            \"device_id\": \"7\",\n",
      "            \"device_ip\": \"192.4.178.32\",\n",
      "            \"rank_id\": \"7\"\n",
      "        }\n",
      "    ]\n",
      "}\n"
     ]
    },
    {
     "name": "stderr",
     "output_type": "stream",
     "text": [
      "[ModelArts Service Log]2022-07-19 11:45:56,524 - INFO - bootstrap proc-rank-0-device-0\n"
     ]
    },
    {
     "name": "stderr",
     "output_type": "stream",
     "text": [
      "[ModelArts Service Log]2022-07-19 11:45:56,530 - INFO - proc-rank-0-device-0 (pid: 4190772)\n"
     ]
    },
    {
     "name": "stderr",
     "output_type": "stream",
     "text": [
      "[ModelArts Service Log]2022-07-19 11:45:56,536 - INFO - bootstrap proc-rank-1-device-1\n"
     ]
    },
    {
     "name": "stderr",
     "output_type": "stream",
     "text": [
      "[ModelArts Service Log]2022-07-19 11:45:56,542 - INFO - proc-rank-1-device-1 (pid: 4190774)\n"
     ]
    },
    {
     "name": "stderr",
     "output_type": "stream",
     "text": [
      "[ModelArts Service Log]2022-07-19 11:45:56,549 - INFO - bootstrap proc-rank-2-device-2\n"
     ]
    },
    {
     "name": "stderr",
     "output_type": "stream",
     "text": [
      "[ModelArts Service Log]2022-07-19 11:45:56,557 - INFO - proc-rank-2-device-2 (pid: 4190776)\n"
     ]
    },
    {
     "name": "stderr",
     "output_type": "stream",
     "text": [
      "[ModelArts Service Log]2022-07-19 11:45:56,564 - INFO - bootstrap proc-rank-3-device-3\n"
     ]
    },
    {
     "name": "stderr",
     "output_type": "stream",
     "text": [
      "[ModelArts Service Log]2022-07-19 11:45:56,574 - INFO - proc-rank-3-device-3 (pid: 4190778)\n"
     ]
    },
    {
     "name": "stderr",
     "output_type": "stream",
     "text": [
      "[ModelArts Service Log]2022-07-19 11:45:56,584 - INFO - bootstrap proc-rank-4-device-4\n"
     ]
    },
    {
     "name": "stderr",
     "output_type": "stream",
     "text": [
      "[ModelArts Service Log]2022-07-19 11:45:56,599 - INFO - proc-rank-4-device-4 (pid: 4190780)\n"
     ]
    },
    {
     "name": "stderr",
     "output_type": "stream",
     "text": [
      "[ModelArts Service Log]2022-07-19 11:45:56,613 - INFO - bootstrap proc-rank-5-device-5\n"
     ]
    },
    {
     "name": "stderr",
     "output_type": "stream",
     "text": [
      "[ModelArts Service Log]2022-07-19 11:45:56,630 - INFO - proc-rank-5-device-5 (pid: 4190782)\n"
     ]
    },
    {
     "name": "stderr",
     "output_type": "stream",
     "text": [
      "[ModelArts Service Log]2022-07-19 11:45:56,645 - INFO - bootstrap proc-rank-6-device-6\n"
     ]
    },
    {
     "name": "stderr",
     "output_type": "stream",
     "text": [
      "[ModelArts Service Log]2022-07-19 11:45:56,663 - INFO - proc-rank-6-device-6 (pid: 4190784)\n"
     ]
    },
    {
     "name": "stderr",
     "output_type": "stream",
     "text": [
      "[ModelArts Service Log]2022-07-19 11:45:56,688 - INFO - bootstrap proc-rank-7-device-7\n"
     ]
    },
    {
     "name": "stderr",
     "output_type": "stream",
     "text": [
      "[ModelArts Service Log]2022-07-19 11:45:56,708 - INFO - proc-rank-7-device-7 (pid: 4190786)\n"
     ]
    },
    {
     "name": "stderr",
     "output_type": "stream",
     "text": [
      "[ModelArts Service Log]2022-07-19 11:45:57,736 - ERROR - proc-rank-0-device-0 (pid: 4190772) has exited with non-zero code: 1\n"
     ]
    },
    {
     "name": "stderr",
     "output_type": "stream",
     "text": [
      "[ModelArts Service Log]2022-07-19 11:45:57,737 - ERROR - Running distributed work error, throw exception...\n"
     ]
    },
    {
     "name": "stderr",
     "output_type": "stream",
     "text": [
      "[ModelArts Service Log]2022-07-19 11:45:57,737 - INFO - Begin destroy training processes\n"
     ]
    },
    {
     "name": "stderr",
     "output_type": "stream",
     "text": [
      "[ModelArts Service Log]2022-07-19 11:45:57,738 - INFO - proc-rank-7-device-7 (pid: 4190786) has exited\n"
     ]
    },
    {
     "name": "stderr",
     "output_type": "stream",
     "text": [
      "[ModelArts Service Log]2022-07-19 11:45:57,738 - INFO - proc-rank-6-device-6 (pid: 4190784) has exited\n"
     ]
    },
    {
     "name": "stderr",
     "output_type": "stream",
     "text": [
      "[ModelArts Service Log]2022-07-19 11:45:57,739 - INFO - proc-rank-5-device-5 (pid: 4190782) has exited\n"
     ]
    },
    {
     "name": "stderr",
     "output_type": "stream",
     "text": [
      "[ModelArts Service Log]2022-07-19 11:45:57,739 - INFO - proc-rank-4-device-4 (pid: 4190780) has exited\n"
     ]
    },
    {
     "name": "stderr",
     "output_type": "stream",
     "text": [
      "[ModelArts Service Log]2022-07-19 11:45:57,740 - INFO - proc-rank-3-device-3 (pid: 4190778) has exited\n"
     ]
    },
    {
     "name": "stderr",
     "output_type": "stream",
     "text": [
      "[ModelArts Service Log]2022-07-19 11:45:57,740 - INFO - proc-rank-2-device-2 (pid: 4190776) has exited\n"
     ]
    },
    {
     "name": "stderr",
     "output_type": "stream",
     "text": [
      "[ModelArts Service Log]2022-07-19 11:45:57,740 - INFO - proc-rank-1-device-1 (pid: 4190774) has exited\n"
     ]
    },
    {
     "name": "stderr",
     "output_type": "stream",
     "text": [
      "[ModelArts Service Log]2022-07-19 11:45:57,741 - INFO - proc-rank-0-device-0 (pid: 4190772) has exited\n"
     ]
    },
    {
     "name": "stderr",
     "output_type": "stream",
     "text": [
      "[ModelArts Service Log]2022-07-19 11:45:57,741 - INFO - End destroy training processes\n"
     ]
    },
    {
     "ename": "DistributedRuntimeError",
     "evalue": "\nTraceback (most recent call last):\n  File \"./mock_failure.py\", line 1, in <module>\n    raise RuntimeError('failed')\nRuntimeError: failed\n",
     "output_type": "error",
     "traceback": [
      "\u001B[0;31m---------------------------------------------------------------------------\u001B[0m",
      "\u001B[0;31mDistributedRuntimeError\u001B[0m                   Traceback (most recent call last)",
      "\u001B[0;32m<ipython-input-1-41476eab5c13>\u001B[0m in \u001B[0;36m<module>\u001B[0;34m\u001B[0m\n\u001B[1;32m     49\u001B[0m \u001B[0minit_rank_table\u001B[0m\u001B[0;34m(\u001B[0m\u001B[0;34m)\u001B[0m\u001B[0;34m\u001B[0m\u001B[0;34m\u001B[0m\u001B[0m\n\u001B[1;32m     50\u001B[0m \u001B[0mmanager\u001B[0m \u001B[0;34m=\u001B[0m \u001B[0mstart_distributed_train\u001B[0m\u001B[0;34m(\u001B[0m\u001B[0;34m[\u001B[0m\u001B[0;34m'python'\u001B[0m\u001B[0;34m,\u001B[0m \u001B[0mmock_failure_file\u001B[0m\u001B[0;34m]\u001B[0m\u001B[0;34m)\u001B[0m\u001B[0;34m\u001B[0m\u001B[0;34m\u001B[0m\u001B[0m\n\u001B[0;32m---> 51\u001B[0;31m \u001B[0mwait_distributed_train\u001B[0m\u001B[0;34m(\u001B[0m\u001B[0mmanager\u001B[0m\u001B[0;34m)\u001B[0m\u001B[0;34m\u001B[0m\u001B[0;34m\u001B[0m\u001B[0m\n\u001B[0m\u001B[1;32m     52\u001B[0m \u001B[0;34m\u001B[0m\u001B[0m\n\u001B[1;32m     53\u001B[0m \u001B[0mcleanup\u001B[0m\u001B[0;34m(\u001B[0m\u001B[0;34m)\u001B[0m\u001B[0;34m\u001B[0m\u001B[0;34m\u001B[0m\u001B[0m\n",
      "\u001B[0;32m~/dev3/davincirun/davincirunsdk/customize/sdk.py\u001B[0m in \u001B[0;36mwait_distributed_train\u001B[0;34m(fmk_manager, destroy_when_finished, raise_exception)\u001B[0m\n\u001B[1;32m     75\u001B[0m \u001B[0;34m\u001B[0m\u001B[0m\n\u001B[1;32m     76\u001B[0m \u001B[0;32mdef\u001B[0m \u001B[0mwait_distributed_train\u001B[0m\u001B[0;34m(\u001B[0m\u001B[0mfmk_manager\u001B[0m\u001B[0;34m,\u001B[0m \u001B[0mdestroy_when_finished\u001B[0m\u001B[0;34m=\u001B[0m\u001B[0;32mTrue\u001B[0m\u001B[0;34m,\u001B[0m \u001B[0mraise_exception\u001B[0m\u001B[0;34m=\u001B[0m\u001B[0;32mTrue\u001B[0m\u001B[0;34m)\u001B[0m\u001B[0;34m:\u001B[0m\u001B[0;34m\u001B[0m\u001B[0;34m\u001B[0m\u001B[0m\n\u001B[0;32m---> 77\u001B[0;31m     \u001B[0;32mreturn\u001B[0m \u001B[0mfmk_manager\u001B[0m\u001B[0;34m.\u001B[0m\u001B[0mwait\u001B[0m\u001B[0;34m(\u001B[0m\u001B[0mdestroy_when_finished\u001B[0m\u001B[0;34m,\u001B[0m \u001B[0mraise_exception\u001B[0m\u001B[0;34m)\u001B[0m\u001B[0;34m\u001B[0m\u001B[0;34m\u001B[0m\u001B[0m\n\u001B[0m\u001B[1;32m     78\u001B[0m \u001B[0;34m\u001B[0m\u001B[0m\n\u001B[1;32m     79\u001B[0m \u001B[0;34m\u001B[0m\u001B[0m\n",
      "\u001B[0;32m~/dev3/davincirun/davincirunsdk/customize/manager.py\u001B[0m in \u001B[0;36mwait\u001B[0;34m(self, destroy_when_finished, raise_exception)\u001B[0m\n\u001B[1;32m    163\u001B[0m     \u001B[0;32mdef\u001B[0m \u001B[0mwait\u001B[0m\u001B[0;34m(\u001B[0m\u001B[0mself\u001B[0m\u001B[0;34m,\u001B[0m \u001B[0mdestroy_when_finished\u001B[0m\u001B[0;34m=\u001B[0m\u001B[0;32mTrue\u001B[0m\u001B[0;34m,\u001B[0m \u001B[0mraise_exception\u001B[0m\u001B[0;34m=\u001B[0m\u001B[0;32mTrue\u001B[0m\u001B[0;34m)\u001B[0m\u001B[0;34m:\u001B[0m\u001B[0;34m\u001B[0m\u001B[0;34m\u001B[0m\u001B[0m\n\u001B[1;32m    164\u001B[0m         \u001B[0;32mtry\u001B[0m\u001B[0;34m:\u001B[0m\u001B[0;34m\u001B[0m\u001B[0;34m\u001B[0m\u001B[0m\n\u001B[0;32m--> 165\u001B[0;31m             \u001B[0mreturn_code\u001B[0m \u001B[0;34m=\u001B[0m \u001B[0mself\u001B[0m\u001B[0;34m.\u001B[0m\u001B[0mmonitor\u001B[0m\u001B[0;34m(\u001B[0m\u001B[0mraise_exception\u001B[0m\u001B[0;34m=\u001B[0m\u001B[0mraise_exception\u001B[0m\u001B[0;34m)\u001B[0m\u001B[0;34m\u001B[0m\u001B[0;34m\u001B[0m\u001B[0m\n\u001B[0m\u001B[1;32m    166\u001B[0m         \u001B[0;32mexcept\u001B[0m \u001B[0mDistributedRuntimeError\u001B[0m\u001B[0;34m:\u001B[0m\u001B[0;34m\u001B[0m\u001B[0;34m\u001B[0m\u001B[0m\n\u001B[1;32m    167\u001B[0m             \u001B[0mlog\u001B[0m\u001B[0;34m.\u001B[0m\u001B[0merror\u001B[0m\u001B[0;34m(\u001B[0m\u001B[0;34m'Running distributed work error, throw exception...'\u001B[0m\u001B[0;34m)\u001B[0m\u001B[0;34m\u001B[0m\u001B[0;34m\u001B[0m\u001B[0m\n",
      "\u001B[0;32m~/dev3/davincirun/davincirunsdk/customize/manager.py\u001B[0m in \u001B[0;36mhandle_func\u001B[0;34m(self, *args, **kwargs)\u001B[0m\n\u001B[1;32m     69\u001B[0m             \u001B[0morigin_handle\u001B[0m \u001B[0;34m=\u001B[0m \u001B[0msignal\u001B[0m\u001B[0;34m.\u001B[0m\u001B[0mgetsignal\u001B[0m\u001B[0;34m(\u001B[0m\u001B[0msignal\u001B[0m\u001B[0;34m.\u001B[0m\u001B[0mSIGTERM\u001B[0m\u001B[0;34m)\u001B[0m\u001B[0;34m\u001B[0m\u001B[0;34m\u001B[0m\u001B[0m\n\u001B[1;32m     70\u001B[0m             \u001B[0msignal\u001B[0m\u001B[0;34m.\u001B[0m\u001B[0msignal\u001B[0m\u001B[0;34m(\u001B[0m\u001B[0msignal\u001B[0m\u001B[0;34m.\u001B[0m\u001B[0mSIGTERM\u001B[0m\u001B[0;34m,\u001B[0m \u001B[0mreceive_term\u001B[0m\u001B[0;34m)\u001B[0m\u001B[0;34m\u001B[0m\u001B[0;34m\u001B[0m\u001B[0m\n\u001B[0;32m---> 71\u001B[0;31m             \u001B[0mres\u001B[0m \u001B[0;34m=\u001B[0m \u001B[0mfunc\u001B[0m\u001B[0;34m(\u001B[0m\u001B[0mself\u001B[0m\u001B[0;34m,\u001B[0m \u001B[0;34m*\u001B[0m\u001B[0margs\u001B[0m\u001B[0;34m,\u001B[0m \u001B[0;34m**\u001B[0m\u001B[0mkwargs\u001B[0m\u001B[0;34m)\u001B[0m\u001B[0;34m\u001B[0m\u001B[0;34m\u001B[0m\u001B[0m\n\u001B[0m\u001B[1;32m     72\u001B[0m             \u001B[0msignal\u001B[0m\u001B[0;34m.\u001B[0m\u001B[0msignal\u001B[0m\u001B[0;34m(\u001B[0m\u001B[0msignal\u001B[0m\u001B[0;34m.\u001B[0m\u001B[0mSIGTERM\u001B[0m\u001B[0;34m,\u001B[0m \u001B[0morigin_handle\u001B[0m\u001B[0;34m)\u001B[0m\u001B[0;34m\u001B[0m\u001B[0;34m\u001B[0m\u001B[0m\n\u001B[1;32m     73\u001B[0m             \u001B[0;32mreturn\u001B[0m \u001B[0mres\u001B[0m\u001B[0;34m\u001B[0m\u001B[0;34m\u001B[0m\u001B[0m\n",
      "\u001B[0;32m~/dev3/davincirun/davincirunsdk/customize/manager.py\u001B[0m in \u001B[0;36mmonitor\u001B[0;34m(self, period, raise_exception)\u001B[0m\n\u001B[1;32m    103\u001B[0m                         \u001B[0merr_log\u001B[0m \u001B[0;34m=\u001B[0m \u001B[0mLogRecorder\u001B[0m\u001B[0;34m.\u001B[0m\u001B[0mget_log_from_pid\u001B[0m\u001B[0;34m(\u001B[0m\u001B[0mfmk_process\u001B[0m\u001B[0;34m.\u001B[0m\u001B[0mpid\u001B[0m\u001B[0;34m)\u001B[0m\u001B[0;34m\u001B[0m\u001B[0;34m\u001B[0m\u001B[0m\n\u001B[1;32m    104\u001B[0m                         \u001B[0;32mif\u001B[0m \u001B[0mraise_exception\u001B[0m\u001B[0;34m:\u001B[0m\u001B[0;34m\u001B[0m\u001B[0;34m\u001B[0m\u001B[0m\n\u001B[0;32m--> 105\u001B[0;31m                             \u001B[0;32mraise\u001B[0m \u001B[0mDistributedRuntimeError\u001B[0m\u001B[0;34m(\u001B[0m\u001B[0;34m'\\n'\u001B[0m\u001B[0;34m+\u001B[0m\u001B[0merr_log\u001B[0m\u001B[0;34m)\u001B[0m\u001B[0;34m\u001B[0m\u001B[0;34m\u001B[0m\u001B[0m\n\u001B[0m\u001B[1;32m    106\u001B[0m                         \u001B[0;32mreturn\u001B[0m \u001B[0mfmk_process\u001B[0m\u001B[0;34m.\u001B[0m\u001B[0mreturncode\u001B[0m\u001B[0;34m\u001B[0m\u001B[0;34m\u001B[0m\u001B[0m\n\u001B[1;32m    107\u001B[0m \u001B[0;34m\u001B[0m\u001B[0m\n",
      "\u001B[0;31mDistributedRuntimeError\u001B[0m: \nTraceback (most recent call last):\n  File \"./mock_failure.py\", line 1, in <module>\n    raise RuntimeError('failed')\nRuntimeError: failed\n"
     ]
    }
   ],
   "source": [
    "\n",
    "import pytest\n",
    "import json\n",
    "import os\n",
    "import shutil\n",
    "\n",
    "from davincirunsdk import init_rank_table, start_distributed_train, wait_distributed_train\n",
    "from davincirunsdk.common import RankTableEnv\n",
    "\n",
    "dir_prefix = './'\n",
    "generated_hccl_path = '/home/ma-user/rank_table/jobstart_hccl.json'\n",
    "k8s_hccl_path = RankTableEnv.get_rank_table_file_path()\n",
    "mock_k8s_hccl_file = os.path.join(dir_prefix, 'k8s_jobstart_hccl.json')\n",
    "mock_train_file = os.path.join(dir_prefix, 'mock_train.py')\n",
    "mock_failure_file = os.path.join(dir_prefix, 'mock_failure.py')\n",
    "\n",
    "\n",
    "def setup():\n",
    "    try:\n",
    "        os.makedirs(os.path.dirname(generated_hccl_path), exist_ok=True)\n",
    "    except OSError:\n",
    "        raise OSError(f'Cant mkdir for generated_hccl_path: {generated_hccl_path}')\n",
    "    try:\n",
    "        os.makedirs(os.path.dirname(k8s_hccl_path), exist_ok=True)\n",
    "    except OSError:\n",
    "        raise OSError(f'Cant mkdir for k8s_hccl_path: {k8s_hccl_path}')\n",
    "\n",
    "    try:\n",
    "        os.remove(RankTableEnv.get_rank_table_file_path())\n",
    "        os.remove(generated_hccl_path)\n",
    "        os.remove(k8s_hccl_path)\n",
    "    except FileNotFoundError:\n",
    "        pass\n",
    "\n",
    "    shutil.copy(mock_k8s_hccl_file, k8s_hccl_path)\n",
    "\n",
    "\n",
    "def cleanup():\n",
    "    del os.environ['RANK_TABLE_FILE']\n",
    "\n",
    "    try:\n",
    "        os.remove(k8s_hccl_path)\n",
    "        os.remove(generated_hccl_path)\n",
    "    except FileNotFoundError:\n",
    "        pass\n",
    "\n",
    "\n",
    "setup()\n",
    "\n",
    "init_rank_table()\n",
    "manager = start_distributed_train(['python', mock_failure_file])\n",
    "wait_distributed_train(manager)\n",
    "\n",
    "cleanup()"
   ]
  }
 ],
 "metadata": {
  "kernelspec": {
   "display_name": "Python 3",
   "language": "python",
   "name": "python3"
  },
  "language_info": {
   "codemirror_mode": {
    "name": "ipython",
    "version": 3
   },
   "file_extension": ".py",
   "mimetype": "text/x-python",
   "name": "python",
   "nbconvert_exporter": "python",
   "pygments_lexer": "ipython3",
   "version": "3.8.12"
  },
  "papermill": {
   "default_parameters": {},
   "duration": 3.228049,
   "end_time": "2022-07-19T03:45:58.118239",
   "environment_variables": {},
   "exception": true,
   "input_path": "/home/wh1isper/dev3/davincirun/tests/pm.ipynb",
   "output_path": "/home/wh1isper/dev3/davincirun/tests/pm-out.ipynb",
   "parameters": {},
   "start_time": "2022-07-19T03:45:54.890190",
   "version": "2.3.4"
  }
 },
 "nbformat": 4,
 "nbformat_minor": 5
}