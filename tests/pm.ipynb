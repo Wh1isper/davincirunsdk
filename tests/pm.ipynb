{
 "cells": [
  {
   "cell_type": "code",
   "execution_count": null,
   "metadata": {
    "collapsed": true
   },
   "outputs": [],
   "source": [
    "\n",
    "import pytest\n",
    "import json\n",
    "import os\n",
    "import shutil\n",
    "\n",
    "from davincirunsdk import init_rank_table, start_distributed_train, wait_distributed_train\n",
    "from davincirunsdk.common import RankTableEnv\n",
    "\n",
    "dir_prefix = './'\n",
    "generated_hccl_path = '/home/ma-user/rank_table/jobstart_hccl.json'\n",
    "k8s_hccl_path = RankTableEnv.get_rank_table_file_path()\n",
    "mock_k8s_hccl_file = os.path.join(dir_prefix, 'k8s_jobstart_hccl.json')\n",
    "mock_train_file = os.path.join(dir_prefix, 'mock_train.py')\n",
    "mock_failure_file = os.path.join(dir_prefix, 'mock_failure.py')\n",
    "\n",
    "\n",
    "def setup():\n",
    "    try:\n",
    "        os.makedirs(os.path.dirname(generated_hccl_path), exist_ok=True)\n",
    "    except OSError:\n",
    "        raise OSError(f'Cant mkdir for generated_hccl_path: {generated_hccl_path}')\n",
    "    try:\n",
    "        os.makedirs(os.path.dirname(k8s_hccl_path), exist_ok=True)\n",
    "    except OSError:\n",
    "        raise OSError(f'Cant mkdir for k8s_hccl_path: {k8s_hccl_path}')\n",
    "\n",
    "    try:\n",
    "        os.remove(RankTableEnv.get_rank_table_file_path())\n",
    "        os.remove(generated_hccl_path)\n",
    "        os.remove(k8s_hccl_path)\n",
    "    except FileNotFoundError:\n",
    "        pass\n",
    "\n",
    "    shutil.copy(mock_k8s_hccl_file, k8s_hccl_path)\n",
    "\n",
    "\n",
    "def cleanup():\n",
    "    del os.environ['RANK_TABLE_FILE']\n",
    "\n",
    "    try:\n",
    "        os.remove(k8s_hccl_path)\n",
    "        os.remove(generated_hccl_path)\n",
    "    except FileNotFoundError:\n",
    "        pass\n",
    "\n",
    "\n",
    "setup()\n",
    "\n",
    "init_rank_table()\n",
    "manager = start_distributed_train(['python', mock_failure_file])\n",
    "wait_distributed_train(manager)\n",
    "\n",
    "cleanup()"
   ]
  }
 ],
 "metadata": {
  "kernelspec": {
   "display_name": "Python 3",
   "language": "python",
   "name": "python3"
  },
  "language_info": {
   "codemirror_mode": {
    "name": "ipython",
    "version": 2
   },
   "file_extension": ".py",
   "mimetype": "text/x-python",
   "name": "python",
   "nbconvert_exporter": "python",
   "pygments_lexer": "ipython2",
   "version": "2.7.6"
  }
 },
 "nbformat": 4,
 "nbformat_minor": 0
}